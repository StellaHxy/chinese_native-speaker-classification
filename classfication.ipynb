{
 "cells": [
  {
   "cell_type": "code",
   "execution_count": 2,
   "metadata": {},
   "outputs": [
    {
     "data": {
      "text/html": [
       "<div>\n",
       "<style scoped>\n",
       "    .dataframe tbody tr th:only-of-type {\n",
       "        vertical-align: middle;\n",
       "    }\n",
       "\n",
       "    .dataframe tbody tr th {\n",
       "        vertical-align: top;\n",
       "    }\n",
       "\n",
       "    .dataframe thead th {\n",
       "        text-align: right;\n",
       "    }\n",
       "</style>\n",
       "<table border=\"1\" class=\"dataframe\">\n",
       "  <thead>\n",
       "    <tr style=\"text-align: right;\">\n",
       "      <th></th>\n",
       "      <th>index</th>\n",
       "      <th>sentence</th>\n",
       "      <th>谓语数目</th>\n",
       "      <th>非谓语数目</th>\n",
       "      <th>副词个数</th>\n",
       "      <th>从句个数</th>\n",
       "      <th>插入语个数</th>\n",
       "      <th>复合句</th>\n",
       "      <th>简单句</th>\n",
       "      <th>并列句</th>\n",
       "      <th>被动</th>\n",
       "      <th>连词</th>\n",
       "      <th>label</th>\n",
       "    </tr>\n",
       "  </thead>\n",
       "  <tbody>\n",
       "    <tr>\n",
       "      <th>0</th>\n",
       "      <td>1</td>\n",
       "      <td>Protein structure prediction has been an impor...</td>\n",
       "      <td>1</td>\n",
       "      <td>0</td>\n",
       "      <td>0</td>\n",
       "      <td>0</td>\n",
       "      <td>0</td>\n",
       "      <td>0</td>\n",
       "      <td>1</td>\n",
       "      <td>0</td>\n",
       "      <td>0</td>\n",
       "      <td>0</td>\n",
       "      <td>0</td>\n",
       "    </tr>\n",
       "    <tr>\n",
       "      <th>1</th>\n",
       "      <td>2</td>\n",
       "      <td>Predicting the three-dimensional structure of...</td>\n",
       "      <td>1</td>\n",
       "      <td>2</td>\n",
       "      <td>1</td>\n",
       "      <td>0</td>\n",
       "      <td>0</td>\n",
       "      <td>0</td>\n",
       "      <td>1</td>\n",
       "      <td>0</td>\n",
       "      <td>0</td>\n",
       "      <td>0</td>\n",
       "      <td>0</td>\n",
       "    </tr>\n",
       "    <tr>\n",
       "      <th>2</th>\n",
       "      <td>3</td>\n",
       "      <td>Both experimental and computational approaches...</td>\n",
       "      <td>1</td>\n",
       "      <td>1</td>\n",
       "      <td>0</td>\n",
       "      <td>0</td>\n",
       "      <td>0</td>\n",
       "      <td>0</td>\n",
       "      <td>1</td>\n",
       "      <td>0</td>\n",
       "      <td>1</td>\n",
       "      <td>1</td>\n",
       "      <td>0</td>\n",
       "    </tr>\n",
       "    <tr>\n",
       "      <th>3</th>\n",
       "      <td>4</td>\n",
       "      <td>The experimental approach allows\\nfor more ac...</td>\n",
       "      <td>1</td>\n",
       "      <td>0</td>\n",
       "      <td>0</td>\n",
       "      <td>0</td>\n",
       "      <td>0</td>\n",
       "      <td>0</td>\n",
       "      <td>1</td>\n",
       "      <td>1</td>\n",
       "      <td>0</td>\n",
       "      <td>1</td>\n",
       "      <td>0</td>\n",
       "    </tr>\n",
       "    <tr>\n",
       "      <th>4</th>\n",
       "      <td>5</td>\n",
       "      <td>The computational approach can predict protein...</td>\n",
       "      <td>2</td>\n",
       "      <td>1</td>\n",
       "      <td>0</td>\n",
       "      <td>0</td>\n",
       "      <td>0</td>\n",
       "      <td>0</td>\n",
       "      <td>0</td>\n",
       "      <td>1</td>\n",
       "      <td>0</td>\n",
       "      <td>1</td>\n",
       "      <td>0</td>\n",
       "    </tr>\n",
       "  </tbody>\n",
       "</table>\n",
       "</div>"
      ],
      "text/plain": [
       "   index                                           sentence  谓语数目  非谓语数目  \\\n",
       "0      1  Protein structure prediction has been an impor...     1      0   \n",
       "1      2   Predicting the three-dimensional structure of...     1      2   \n",
       "2      3  Both experimental and computational approaches...     1      1   \n",
       "3      4   The experimental approach allows\\nfor more ac...     1      0   \n",
       "4      5  The computational approach can predict protein...     2      1   \n",
       "\n",
       "   副词个数  从句个数  插入语个数  复合句  简单句  并列句  被动  连词  label  \n",
       "0     0     0      0    0    1    0   0   0      0  \n",
       "1     1     0      0    0    1    0   0   0      0  \n",
       "2     0     0      0    0    1    0   1   1      0  \n",
       "3     0     0      0    0    1    1   0   1      0  \n",
       "4     0     0      0    0    0    1   0   1      0  "
      ]
     },
     "execution_count": 2,
     "metadata": {},
     "output_type": "execute_result"
    }
   ],
   "source": [
    "import numpy as np\n",
    "import pandas as pd\n",
    "import re\n",
    "\n",
    "chinese =  pd.read_csv('data/chinese.csv',encoding='utf-8',header=0,keep_default_na=False)\n",
    "english =  pd.read_csv('data/native.csv',encoding='utf-8',header=0,keep_default_na=False)\n",
    "chinese.head()"
   ]
  },
  {
   "cell_type": "code",
   "execution_count": 3,
   "metadata": {},
   "outputs": [],
   "source": [
    "from sklearn import tree\n",
    "from sklearn.model_selection import train_test_split\n",
    "from sklearn.model_selection import cross_val_score\n",
    "from sklearn.preprocessing import LabelBinarizer\n",
    "\n",
    "\n",
    "train_data = pd.concat([chinese,english], ignore_index=True)\n"
   ]
  },
  {
   "cell_type": "code",
   "execution_count": 4,
   "metadata": {},
   "outputs": [
    {
     "name": "stdout",
     "output_type": "stream",
     "text": [
      "<class 'pandas.core.frame.DataFrame'>\n",
      "RangeIndex: 129 entries, 0 to 128\n",
      "Data columns (total 13 columns):\n",
      " #   Column    Non-Null Count  Dtype \n",
      "---  ------    --------------  ----- \n",
      " 0   index     129 non-null    int64 \n",
      " 1   sentence  129 non-null    object\n",
      " 2   谓语数目      129 non-null    int64 \n",
      " 3   非谓语数目     129 non-null    int64 \n",
      " 4   副词个数      129 non-null    int64 \n",
      " 5   从句个数      129 non-null    int64 \n",
      " 6   插入语个数     129 non-null    int64 \n",
      " 7   复合句       129 non-null    int64 \n",
      " 8   简单句       129 non-null    int64 \n",
      " 9   并列句       129 non-null    int64 \n",
      " 10  被动        129 non-null    int64 \n",
      " 11  连词        129 non-null    int64 \n",
      " 12  label     129 non-null    int64 \n",
      "dtypes: int64(12), object(1)\n",
      "memory usage: 13.2+ KB\n"
     ]
    }
   ],
   "source": [
    "train_data[\"副词个数\"] = pd.to_numeric(train_data[\"副词个数\"], errors='coerce').fillna(0, downcast='infer')\n",
    "train_data[\"谓语数目\"] = pd.to_numeric(train_data[\"谓语数目\"], errors='coerce').fillna(0, downcast='infer')\n",
    "train_data[\"非谓语数目\"] = pd.to_numeric(train_data[\"非谓语数目\"], errors='coerce').fillna(0, downcast='infer')\n",
    "train_data[\"从句个数\"] = pd.to_numeric(train_data[\"从句个数\"], errors='coerce').fillna(0, downcast='infer')\n",
    "train_data[\"插入语个数\"] = pd.to_numeric(train_data[\"插入语个数\"], errors='coerce').fillna(0, downcast='infer')\n",
    "train_data[\"复合句\"] = pd.to_numeric(train_data[\"复合句\"], errors='coerce').fillna(0, downcast='infer')\n",
    "train_data[\"简单句\"] = pd.to_numeric(train_data[\"简单句\"], errors='coerce').fillna(0, downcast='infer')\n",
    "train_data[\"并列句\"] = pd.to_numeric(train_data[\"并列句\"], errors='coerce').fillna(0, downcast='infer')\n",
    "train_data[\"被动\"] = pd.to_numeric(train_data[\"被动\"], errors='coerce').fillna(0, downcast='infer')\n",
    "train_data[\"连词\"] = pd.to_numeric(train_data[\"连词\"], errors='coerce').fillna(0, downcast='infer')\n",
    "train_data[\"label\"] = pd.to_numeric(train_data[\"label\"], errors='coerce').fillna(0, downcast='infer')\n",
    "train_data.info()"
   ]
  },
  {
   "cell_type": "code",
   "execution_count": 5,
   "metadata": {},
   "outputs": [],
   "source": [
    "train_label = train_data['label']\n",
    "del train_data['sentence']\n",
    "del train_data['label']\n",
    "del train_data['index']\n",
    "Xtrain,Xtest,Ytrain,Ytest = train_test_split(train_data,train_label,test_size=0.25)"
   ]
  },
  {
   "cell_type": "code",
   "execution_count": 6,
   "metadata": {},
   "outputs": [],
   "source": [
    "from sklearn import tree\n",
    "from sklearn.model_selection import train_test_split\n",
    "from sklearn.model_selection import cross_val_score\n",
    "\n",
    "\n",
    "train_data = pd.concat([chinese,english], ignore_index=True)\n",
    "train_label = train_data['label']\n",
    "del train_data['sentence']\n",
    "del train_data['label']\n",
    "del train_data['index']\n",
    "Xtrain,Xtest,Ytrain,Ytest = train_test_split(train_data,train_label,test_size=0.2)"
   ]
  },
  {
   "cell_type": "code",
   "execution_count": 7,
   "metadata": {},
   "outputs": [
    {
     "data": {
      "text/plain": [
       "54     0\n",
       "51     0\n",
       "12     0\n",
       "25     0\n",
       "82     1\n",
       "123    1\n",
       "34     0\n",
       "60     0\n",
       "70     1\n",
       "40     0\n",
       "90     1\n",
       "116    1\n",
       "72     1\n",
       "109    1\n",
       "93     1\n",
       "Name: label, dtype: int64"
      ]
     },
     "execution_count": 7,
     "metadata": {},
     "output_type": "execute_result"
    }
   ],
   "source": [
    "Ytest.head(15)"
   ]
  },
  {
   "cell_type": "code",
   "execution_count": 8,
   "metadata": {},
   "outputs": [
    {
     "name": "stdout",
     "output_type": "stream",
     "text": [
      "0.691025641025641\n"
     ]
    },
    {
     "data": {
      "image/png": "[encoded data removed]",
      "text/plain": [
       "<Figure size 432x288 with 1 Axes>"
      ]
     },
     "metadata": {
      "needs_background": "light"
     },
     "output_type": "display_data"
    }
   ],
   "source": [
    "import matplotlib.pyplot as plt\n",
    "\n",
    "tr = []\n",
    "te = []\n",
    "for i in range(10):\n",
    "    clf = tree.DecisionTreeClassifier(random_state=10\n",
    "                                 ,max_depth=i+1\n",
    "                                 ,criterion=\"entropy\",\n",
    "                                 min_samples_split = 8\n",
    "                                )\n",
    "    clf = clf.fit(Xtrain,Ytrain)\n",
    "    score_tr = clf.score(Xtrain, Ytrain)\n",
    "    score_te = cross_val_score(clf,train_data,train_label,cv=10).mean()\n",
    "    tr.append(score_tr)\n",
    "    te.append(score_te)\n",
    "print(max(te))\n",
    "plt.plot(range(1,11),tr,color=\"red\",label=\"train\")\n",
    "plt.plot(range(1,11),te,color=\"blue\",label=\"test\")\n",
    "plt.xticks(range(1,11))\n",
    "plt.legend()\n",
    "plt.show()\n"
   ]
  },
  {
   "cell_type": "code",
   "execution_count": 9,
   "metadata": {},
   "outputs": [],
   "source": [
    "# from sklearn.model_selection import GridSearchCV\n",
    "# gini_thresholds = np.linspace(0,2,20)\n",
    "\n",
    "# parameters = {'splitter':('best','random')\n",
    "#                 ,'criterion':(\"gini\",\"entropy\")\n",
    "#                 ,\"max_depth\":[*range(1,10)]\n",
    "#                 ,'min_samples_leaf':[*range(1,50,5)]\n",
    "#                 ,'min_impurity_decrease':[*np.linspace(0,0.5,20)]\n",
    "#              }\n",
    "# clf = tree.DecisionTreeClassifier(random_state=25)\n",
    "# GS = GridSearchCV(clf,parameters,cv=10)\n",
    "# GS.fit(Xtrain,Ytrain)\n",
    "\n",
    "# GS.best_params_\n",
    "# GS.best_score_\n"
   ]
  },
  {
   "cell_type": "code",
   "execution_count": 22,
   "metadata": {},
   "outputs": [
    {
     "data": {
      "text/plain": [
       "0.7692307692307693"
      ]
     },
     "execution_count": 22,
     "metadata": {},
     "output_type": "execute_result"
    }
   ],
   "source": [
    "clf = tree.DecisionTreeClassifier(criterion=\"entropy\",\n",
    "                                splitter=\"random\",\n",
    "                                max_depth=5,) #实例化\n",
    "clf = clf.fit (Xtrain, Ytrain) #用训练集数据训练模型\n",
    "result = clf.score(Xtest,Ytest)\t#导入测试集，从接口中调用需要的信息\n",
    "\n",
    "result"
   ]
  },
  {
   "cell_type": "code",
   "execution_count": 23,
   "metadata": {},
   "outputs": [],
   "source": [
    "with open(\"model.dot\", 'w') as f:\n",
    "    f = tree.export_graphviz(clf, out_file=f)"
   ]
  },
  {
   "cell_type": "code",
   "execution_count": 24,
   "metadata": {},
   "outputs": [
    {
     "data": {
      "image/svg+xml": "<?xml version=\"1.0\" encoding=\"UTF-8\" standalone=\"no\"?>\r\n<!DOCTYPE svg PUBLIC \"-//W3C//DTD SVG 1.1//EN\"\r\n \"http://www.w3.org/Graphics/SVG/1.1/DTD/svg11.dtd\">\r\n<!-- Generated by graphviz version 3.0.0 (20220226.1711)\r\n -->\r\n<!-- Title: Tree Pages: 1 -->\r\n<svg width=\"1047pt\" height=\"671pt\"\r\n viewBox=\"0.00 0.00 1046.50 671.00\" xmlns=\"http://www.w3.org/2000/svg\" xmlns:xlink=\"http://www.w3.org/1999/xlink\">\r\n<g id=\"graph0\" class=\"graph\" transform=\"scale(1 1) rotate(0) translate(4 667)\">\r\n<title>Tree</title>\r\n<polygon fill=\"white\" stroke=\"transparent\" points=\"-4,4 -4,-667 1042.5,-667 1042.5,4 -4,4\"/>\r\n<!-- 0 -->\r\n<g id=\"node1\" class=\"node\">\r\n<title>0</title>\r\n<path fill=\"#fefdfb\" stroke=\"black\" d=\"M744,-663C744,-663 628,-663 628,-663 622,-663 616,-657 616,-651 616,-651 616,-592 616,-592 616,-586 622,-580 628,-580 628,-580 744,-580 744,-580 750,-580 756,-586 756,-592 756,-592 756,-651 756,-651 756,-657 750,-663 744,-663\"/>\r\n<text text-anchor=\"middle\" x=\"686\" y=\"-647.8\" font-family=\"Helvetica,sans-Serif\" font-size=\"14.00\">副词个数 &lt;= 1.976</text>\r\n<text text-anchor=\"middle\" x=\"686\" y=\"-632.8\" font-family=\"Helvetica,sans-Serif\" font-size=\"14.00\">entropy = 1.0</text>\r\n<text text-anchor=\"middle\" x=\"686\" y=\"-617.8\" font-family=\"Helvetica,sans-Serif\" font-size=\"14.00\">samples = 103</text>\r\n<text text-anchor=\"middle\" x=\"686\" y=\"-602.8\" font-family=\"Helvetica,sans-Serif\" font-size=\"14.00\">value = [52, 51]</text>\r\n<text text-anchor=\"middle\" x=\"686\" y=\"-587.8\" font-family=\"Helvetica,sans-Serif\" font-size=\"14.00\">class = chinese</text>\r\n</g>\r\n<!-- 1 -->\r\n<g id=\"node2\" class=\"node\">\r\n<title>1</title>\r\n<path fill=\"#fcf3ec\" stroke=\"black\" d=\"M675,-544C675,-544 559,-544 559,-544 553,-544 547,-538 547,-532 547,-532 547,-473 547,-473 547,-467 553,-461 559,-461 559,-461 675,-461 675,-461 681,-461 687,-467 687,-473 687,-473 687,-532 687,-532 687,-538 681,-544 675,-544\"/>\r\n<text text-anchor=\"middle\" x=\"617\" y=\"-528.8\" font-family=\"Helvetica,sans-Serif\" font-size=\"14.00\">连词个数 &lt;= 0.856</text>\r\n<text text-anchor=\"middle\" x=\"617\" y=\"-513.8\" font-family=\"Helvetica,sans-Serif\" font-size=\"14.00\">entropy = 0.998</text>\r\n<text text-anchor=\"middle\" x=\"617\" y=\"-498.8\" font-family=\"Helvetica,sans-Serif\" font-size=\"14.00\">samples = 99</text>\r\n<text text-anchor=\"middle\" x=\"617\" y=\"-483.8\" font-family=\"Helvetica,sans-Serif\" font-size=\"14.00\">value = [52, 47]</text>\r\n<text text-anchor=\"middle\" x=\"617\" y=\"-468.8\" font-family=\"Helvetica,sans-Serif\" font-size=\"14.00\">class = chinese</text>\r\n</g>\r\n<!-- 0&#45;&gt;1 -->\r\n<g id=\"edge1\" class=\"edge\">\r\n<title>0&#45;&gt;1</title>\r\n<path fill=\"none\" stroke=\"black\" d=\"M662.06,-579.91C656.92,-571.2 651.44,-561.9 646.13,-552.89\"/>\r\n<polygon fill=\"black\" stroke=\"black\" points=\"648.99,-550.86 640.9,-544.02 642.96,-554.41 648.99,-550.86\"/>\r\n<text text-anchor=\"middle\" x=\"634.65\" y=\"-564.53\" font-family=\"Helvetica,sans-Serif\" font-size=\"14.00\">True</text>\r\n</g>\r\n<!-- 20 -->\r\n<g id=\"node21\" class=\"node\">\r\n<title>20</title>\r\n<path fill=\"#399de5\" stroke=\"black\" d=\"M795,-536.5C795,-536.5 717,-536.5 717,-536.5 711,-536.5 705,-530.5 705,-524.5 705,-524.5 705,-480.5 705,-480.5 705,-474.5 711,-468.5 717,-468.5 717,-468.5 795,-468.5 795,-468.5 801,-468.5 807,-474.5 807,-480.5 807,-480.5 807,-524.5 807,-524.5 807,-530.5 801,-536.5 795,-536.5\"/>\r\n<text text-anchor=\"middle\" x=\"756\" y=\"-521.3\" font-family=\"Helvetica,sans-Serif\" font-size=\"14.00\">entropy = 0.0</text>\r\n<text text-anchor=\"middle\" x=\"756\" y=\"-506.3\" font-family=\"Helvetica,sans-Serif\" font-size=\"14.00\">samples = 4</text>\r\n<text text-anchor=\"middle\" x=\"756\" y=\"-491.3\" font-family=\"Helvetica,sans-Serif\" font-size=\"14.00\">value = [0, 4]</text>\r\n<text text-anchor=\"middle\" x=\"756\" y=\"-476.3\" font-family=\"Helvetica,sans-Serif\" font-size=\"14.00\">class = native</text>\r\n</g>\r\n<!-- 0&#45;&gt;20 -->\r\n<g id=\"edge20\" class=\"edge\">\r\n<title>0&#45;&gt;20</title>\r\n<path fill=\"none\" stroke=\"black\" d=\"M710.29,-579.91C716.95,-568.76 724.2,-556.66 730.91,-545.44\"/>\r\n<polygon fill=\"black\" stroke=\"black\" points=\"734.03,-547.05 736.16,-536.67 728.02,-543.45 734.03,-547.05\"/>\r\n<text text-anchor=\"middle\" x=\"742.25\" y=\"-557.21\" font-family=\"Helvetica,sans-Serif\" font-size=\"14.00\">False</text>\r\n</g>\r\n<!-- 2 -->\r\n<g id=\"node3\" class=\"node\">\r\n<title>2</title>\r\n<path fill=\"#f1bc96\" stroke=\"black\" d=\"M583,-425C583,-425 467,-425 467,-425 461,-425 455,-419 455,-413 455,-413 455,-354 455,-354 455,-348 461,-342 467,-342 467,-342 583,-342 583,-342 589,-342 595,-348 595,-354 595,-354 595,-413 595,-413 595,-419 589,-425 583,-425\"/>\r\n<text text-anchor=\"middle\" x=\"525\" y=\"-409.8\" font-family=\"Helvetica,sans-Serif\" font-size=\"14.00\">从句个数 &lt;= 1.491</text>\r\n<text text-anchor=\"middle\" x=\"525\" y=\"-394.8\" font-family=\"Helvetica,sans-Serif\" font-size=\"14.00\">entropy = 0.903</text>\r\n<text text-anchor=\"middle\" x=\"525\" y=\"-379.8\" font-family=\"Helvetica,sans-Serif\" font-size=\"14.00\">samples = 47</text>\r\n<text text-anchor=\"middle\" x=\"525\" y=\"-364.8\" font-family=\"Helvetica,sans-Serif\" font-size=\"14.00\">value = [32, 15]</text>\r\n<text text-anchor=\"middle\" x=\"525\" y=\"-349.8\" font-family=\"Helvetica,sans-Serif\" font-size=\"14.00\">class = chinese</text>\r\n</g>\r\n<!-- 1&#45;&gt;2 -->\r\n<g id=\"edge2\" class=\"edge\">\r\n<title>1&#45;&gt;2</title>\r\n<path fill=\"none\" stroke=\"black\" d=\"M585.08,-460.91C578.02,-451.92 570.46,-442.32 563.18,-433.05\"/>\r\n<polygon fill=\"black\" stroke=\"black\" points=\"565.8,-430.72 556.86,-425.02 560.29,-435.05 565.8,-430.72\"/>\r\n</g>\r\n<!-- 11 -->\r\n<g id=\"node12\" class=\"node\">\r\n<title>11</title>\r\n<path fill=\"#b5daf5\" stroke=\"black\" d=\"M760,-425C760,-425 628,-425 628,-425 622,-425 616,-419 616,-413 616,-413 616,-354 616,-354 616,-348 622,-342 628,-342 628,-342 760,-342 760,-342 766,-342 772,-348 772,-354 772,-354 772,-413 772,-413 772,-419 766,-425 760,-425\"/>\r\n<text text-anchor=\"middle\" x=\"694\" y=\"-409.8\" font-family=\"Helvetica,sans-Serif\" font-size=\"14.00\">被动词个数 &lt;= 1.724</text>\r\n<text text-anchor=\"middle\" x=\"694\" y=\"-394.8\" font-family=\"Helvetica,sans-Serif\" font-size=\"14.00\">entropy = 0.961</text>\r\n<text text-anchor=\"middle\" x=\"694\" y=\"-379.8\" font-family=\"Helvetica,sans-Serif\" font-size=\"14.00\">samples = 52</text>\r\n<text text-anchor=\"middle\" x=\"694\" y=\"-364.8\" font-family=\"Helvetica,sans-Serif\" font-size=\"14.00\">value = [20, 32]</text>\r\n<text text-anchor=\"middle\" x=\"694\" y=\"-349.8\" font-family=\"Helvetica,sans-Serif\" font-size=\"14.00\">class = native</text>\r\n</g>\r\n<!-- 1&#45;&gt;11 -->\r\n<g id=\"edge11\" class=\"edge\">\r\n<title>1&#45;&gt;11</title>\r\n<path fill=\"none\" stroke=\"black\" d=\"M643.71,-460.91C649.51,-452.1 655.7,-442.7 661.68,-433.61\"/>\r\n<polygon fill=\"black\" stroke=\"black\" points=\"664.76,-435.3 667.33,-425.02 658.91,-431.45 664.76,-435.3\"/>\r\n</g>\r\n<!-- 3 -->\r\n<g id=\"node4\" class=\"node\">\r\n<title>3</title>\r\n<path fill=\"#f2c29f\" stroke=\"black\" d=\"M428,-306C428,-306 304,-306 304,-306 298,-306 292,-300 292,-294 292,-294 292,-235 292,-235 292,-229 298,-223 304,-223 304,-223 428,-223 428,-223 434,-223 440,-229 440,-235 440,-235 440,-294 440,-294 440,-300 434,-306 428,-306\"/>\r\n<text text-anchor=\"middle\" x=\"366\" y=\"-290.8\" font-family=\"Helvetica,sans-Serif\" font-size=\"14.00\">插入语个数 &lt;= 0.72</text>\r\n<text text-anchor=\"middle\" x=\"366\" y=\"-275.8\" font-family=\"Helvetica,sans-Serif\" font-size=\"14.00\">entropy = 0.926</text>\r\n<text text-anchor=\"middle\" x=\"366\" y=\"-260.8\" font-family=\"Helvetica,sans-Serif\" font-size=\"14.00\">samples = 44</text>\r\n<text text-anchor=\"middle\" x=\"366\" y=\"-245.8\" font-family=\"Helvetica,sans-Serif\" font-size=\"14.00\">value = [29, 15]</text>\r\n<text text-anchor=\"middle\" x=\"366\" y=\"-230.8\" font-family=\"Helvetica,sans-Serif\" font-size=\"14.00\">class = chinese</text>\r\n</g>\r\n<!-- 2&#45;&gt;3 -->\r\n<g id=\"edge3\" class=\"edge\">\r\n<title>2&#45;&gt;3</title>\r\n<path fill=\"none\" stroke=\"black\" d=\"M469.84,-341.91C456.76,-332.29 442.72,-321.95 429.32,-312.09\"/>\r\n<polygon fill=\"black\" stroke=\"black\" points=\"431.2,-309.13 421.07,-306.02 427.05,-314.77 431.2,-309.13\"/>\r\n</g>\r\n<!-- 10 -->\r\n<g id=\"node11\" class=\"node\">\r\n<title>10</title>\r\n<path fill=\"#e58139\" stroke=\"black\" d=\"M570.5,-298.5C570.5,-298.5 479.5,-298.5 479.5,-298.5 473.5,-298.5 467.5,-292.5 467.5,-286.5 467.5,-286.5 467.5,-242.5 467.5,-242.5 467.5,-236.5 473.5,-230.5 479.5,-230.5 479.5,-230.5 570.5,-230.5 570.5,-230.5 576.5,-230.5 582.5,-236.5 582.5,-242.5 582.5,-242.5 582.5,-286.5 582.5,-286.5 582.5,-292.5 576.5,-298.5 570.5,-298.5\"/>\r\n<text text-anchor=\"middle\" x=\"525\" y=\"-283.3\" font-family=\"Helvetica,sans-Serif\" font-size=\"14.00\">entropy = 0.0</text>\r\n<text text-anchor=\"middle\" x=\"525\" y=\"-268.3\" font-family=\"Helvetica,sans-Serif\" font-size=\"14.00\">samples = 3</text>\r\n<text text-anchor=\"middle\" x=\"525\" y=\"-253.3\" font-family=\"Helvetica,sans-Serif\" font-size=\"14.00\">value = [3, 0]</text>\r\n<text text-anchor=\"middle\" x=\"525\" y=\"-238.3\" font-family=\"Helvetica,sans-Serif\" font-size=\"14.00\">class = chinese</text>\r\n</g>\r\n<!-- 2&#45;&gt;10 -->\r\n<g id=\"edge10\" class=\"edge\">\r\n<title>2&#45;&gt;10</title>\r\n<path fill=\"none\" stroke=\"black\" d=\"M525,-341.91C525,-331.2 525,-319.62 525,-308.78\"/>\r\n<polygon fill=\"black\" stroke=\"black\" points=\"528.5,-308.67 525,-298.67 521.5,-308.67 528.5,-308.67\"/>\r\n</g>\r\n<!-- 4 -->\r\n<g id=\"node5\" class=\"node\">\r\n<title>4</title>\r\n<path fill=\"#f0b78e\" stroke=\"black\" d=\"M254,-187C254,-187 130,-187 130,-187 124,-187 118,-181 118,-175 118,-175 118,-116 118,-116 118,-110 124,-104 130,-104 130,-104 254,-104 254,-104 260,-104 266,-110 266,-116 266,-116 266,-175 266,-175 266,-181 260,-187 254,-187\"/>\r\n<text text-anchor=\"middle\" x=\"192\" y=\"-171.8\" font-family=\"Helvetica,sans-Serif\" font-size=\"14.00\">非谓语数目 &lt;= 0.73</text>\r\n<text text-anchor=\"middle\" x=\"192\" y=\"-156.8\" font-family=\"Helvetica,sans-Serif\" font-size=\"14.00\">entropy = 0.881</text>\r\n<text text-anchor=\"middle\" x=\"192\" y=\"-141.8\" font-family=\"Helvetica,sans-Serif\" font-size=\"14.00\">samples = 40</text>\r\n<text text-anchor=\"middle\" x=\"192\" y=\"-126.8\" font-family=\"Helvetica,sans-Serif\" font-size=\"14.00\">value = [28, 12]</text>\r\n<text text-anchor=\"middle\" x=\"192\" y=\"-111.8\" font-family=\"Helvetica,sans-Serif\" font-size=\"14.00\">class = chinese</text>\r\n</g>\r\n<!-- 3&#45;&gt;4 -->\r\n<g id=\"edge4\" class=\"edge\">\r\n<title>3&#45;&gt;4</title>\r\n<path fill=\"none\" stroke=\"black\" d=\"M305.63,-222.91C291.19,-213.2 275.67,-202.76 260.87,-192.81\"/>\r\n<polygon fill=\"black\" stroke=\"black\" points=\"262.51,-189.7 252.26,-187.02 258.61,-195.51 262.51,-189.7\"/>\r\n</g>\r\n<!-- 7 -->\r\n<g id=\"node8\" class=\"node\">\r\n<title>7</title>\r\n<path fill=\"#7bbeee\" stroke=\"black\" d=\"M432,-187C432,-187 300,-187 300,-187 294,-187 288,-181 288,-175 288,-175 288,-116 288,-116 288,-110 294,-104 300,-104 300,-104 432,-104 432,-104 438,-104 444,-110 444,-116 444,-116 444,-175 444,-175 444,-181 438,-187 432,-187\"/>\r\n<text text-anchor=\"middle\" x=\"366\" y=\"-171.8\" font-family=\"Helvetica,sans-Serif\" font-size=\"14.00\">非谓语数目 &lt;= 1.966</text>\r\n<text text-anchor=\"middle\" x=\"366\" y=\"-156.8\" font-family=\"Helvetica,sans-Serif\" font-size=\"14.00\">entropy = 0.811</text>\r\n<text text-anchor=\"middle\" x=\"366\" y=\"-141.8\" font-family=\"Helvetica,sans-Serif\" font-size=\"14.00\">samples = 4</text>\r\n<text text-anchor=\"middle\" x=\"366\" y=\"-126.8\" font-family=\"Helvetica,sans-Serif\" font-size=\"14.00\">value = [1, 3]</text>\r\n<text text-anchor=\"middle\" x=\"366\" y=\"-111.8\" font-family=\"Helvetica,sans-Serif\" font-size=\"14.00\">class = native</text>\r\n</g>\r\n<!-- 3&#45;&gt;7 -->\r\n<g id=\"edge7\" class=\"edge\">\r\n<title>3&#45;&gt;7</title>\r\n<path fill=\"none\" stroke=\"black\" d=\"M366,-222.91C366,-214.65 366,-205.86 366,-197.3\"/>\r\n<polygon fill=\"black\" stroke=\"black\" points=\"369.5,-197.02 366,-187.02 362.5,-197.02 369.5,-197.02\"/>\r\n</g>\r\n<!-- 5 -->\r\n<g id=\"node6\" class=\"node\">\r\n<title>5</title>\r\n<path fill=\"#eca06a\" stroke=\"black\" d=\"M104,-68C104,-68 12,-68 12,-68 6,-68 0,-62 0,-56 0,-56 0,-12 0,-12 0,-6 6,0 12,0 12,0 104,0 104,0 110,0 116,-6 116,-12 116,-12 116,-56 116,-56 116,-62 110,-68 104,-68\"/>\r\n<text text-anchor=\"middle\" x=\"58\" y=\"-52.8\" font-family=\"Helvetica,sans-Serif\" font-size=\"14.00\">entropy = 0.722</text>\r\n<text text-anchor=\"middle\" x=\"58\" y=\"-37.8\" font-family=\"Helvetica,sans-Serif\" font-size=\"14.00\">samples = 20</text>\r\n<text text-anchor=\"middle\" x=\"58\" y=\"-22.8\" font-family=\"Helvetica,sans-Serif\" font-size=\"14.00\">value = [16, 4]</text>\r\n<text text-anchor=\"middle\" x=\"58\" y=\"-7.8\" font-family=\"Helvetica,sans-Serif\" font-size=\"14.00\">class = chinese</text>\r\n</g>\r\n<!-- 4&#45;&gt;5 -->\r\n<g id=\"edge5\" class=\"edge\">\r\n<title>4&#45;&gt;5</title>\r\n<path fill=\"none\" stroke=\"black\" d=\"M142.1,-103.73C130.5,-94.24 118.15,-84.16 106.6,-74.72\"/>\r\n<polygon fill=\"black\" stroke=\"black\" points=\"108.71,-71.92 98.75,-68.3 104.28,-77.34 108.71,-71.92\"/>\r\n</g>\r\n<!-- 6 -->\r\n<g id=\"node7\" class=\"node\">\r\n<title>6</title>\r\n<path fill=\"#f6d5bd\" stroke=\"black\" d=\"M238,-68C238,-68 146,-68 146,-68 140,-68 134,-62 134,-56 134,-56 134,-12 134,-12 134,-6 140,0 146,0 146,0 238,0 238,0 244,0 250,-6 250,-12 250,-12 250,-56 250,-56 250,-62 244,-68 238,-68\"/>\r\n<text text-anchor=\"middle\" x=\"192\" y=\"-52.8\" font-family=\"Helvetica,sans-Serif\" font-size=\"14.00\">entropy = 0.971</text>\r\n<text text-anchor=\"middle\" x=\"192\" y=\"-37.8\" font-family=\"Helvetica,sans-Serif\" font-size=\"14.00\">samples = 20</text>\r\n<text text-anchor=\"middle\" x=\"192\" y=\"-22.8\" font-family=\"Helvetica,sans-Serif\" font-size=\"14.00\">value = [12, 8]</text>\r\n<text text-anchor=\"middle\" x=\"192\" y=\"-7.8\" font-family=\"Helvetica,sans-Serif\" font-size=\"14.00\">class = chinese</text>\r\n</g>\r\n<!-- 4&#45;&gt;6 -->\r\n<g id=\"edge6\" class=\"edge\">\r\n<title>4&#45;&gt;6</title>\r\n<path fill=\"none\" stroke=\"black\" d=\"M192,-103.73C192,-95.52 192,-86.86 192,-78.56\"/>\r\n<polygon fill=\"black\" stroke=\"black\" points=\"195.5,-78.3 192,-68.3 188.5,-78.3 195.5,-78.3\"/>\r\n</g>\r\n<!-- 8 -->\r\n<g id=\"node9\" class=\"node\">\r\n<title>8</title>\r\n<path fill=\"#399de5\" stroke=\"black\" d=\"M358,-68C358,-68 280,-68 280,-68 274,-68 268,-62 268,-56 268,-56 268,-12 268,-12 268,-6 274,0 280,0 280,0 358,0 358,0 364,0 370,-6 370,-12 370,-12 370,-56 370,-56 370,-62 364,-68 358,-68\"/>\r\n<text text-anchor=\"middle\" x=\"319\" y=\"-52.8\" font-family=\"Helvetica,sans-Serif\" font-size=\"14.00\">entropy = 0.0</text>\r\n<text text-anchor=\"middle\" x=\"319\" y=\"-37.8\" font-family=\"Helvetica,sans-Serif\" font-size=\"14.00\">samples = 3</text>\r\n<text text-anchor=\"middle\" x=\"319\" y=\"-22.8\" font-family=\"Helvetica,sans-Serif\" font-size=\"14.00\">value = [0, 3]</text>\r\n<text text-anchor=\"middle\" x=\"319\" y=\"-7.8\" font-family=\"Helvetica,sans-Serif\" font-size=\"14.00\">class = native</text>\r\n</g>\r\n<!-- 7&#45;&gt;8 -->\r\n<g id=\"edge8\" class=\"edge\">\r\n<title>7&#45;&gt;8</title>\r\n<path fill=\"none\" stroke=\"black\" d=\"M348.5,-103.73C344.86,-95.24 341.01,-86.28 337.34,-77.73\"/>\r\n<polygon fill=\"black\" stroke=\"black\" points=\"340.45,-76.11 333.29,-68.3 334.02,-78.87 340.45,-76.11\"/>\r\n</g>\r\n<!-- 9 -->\r\n<g id=\"node10\" class=\"node\">\r\n<title>9</title>\r\n<path fill=\"#e58139\" stroke=\"black\" d=\"M491.5,-68C491.5,-68 400.5,-68 400.5,-68 394.5,-68 388.5,-62 388.5,-56 388.5,-56 388.5,-12 388.5,-12 388.5,-6 394.5,0 400.5,0 400.5,0 491.5,0 491.5,0 497.5,0 503.5,-6 503.5,-12 503.5,-12 503.5,-56 503.5,-56 503.5,-62 497.5,-68 491.5,-68\"/>\r\n<text text-anchor=\"middle\" x=\"446\" y=\"-52.8\" font-family=\"Helvetica,sans-Serif\" font-size=\"14.00\">entropy = 0.0</text>\r\n<text text-anchor=\"middle\" x=\"446\" y=\"-37.8\" font-family=\"Helvetica,sans-Serif\" font-size=\"14.00\">samples = 1</text>\r\n<text text-anchor=\"middle\" x=\"446\" y=\"-22.8\" font-family=\"Helvetica,sans-Serif\" font-size=\"14.00\">value = [1, 0]</text>\r\n<text text-anchor=\"middle\" x=\"446\" y=\"-7.8\" font-family=\"Helvetica,sans-Serif\" font-size=\"14.00\">class = chinese</text>\r\n</g>\r\n<!-- 7&#45;&gt;9 -->\r\n<g id=\"edge9\" class=\"edge\">\r\n<title>7&#45;&gt;9</title>\r\n<path fill=\"none\" stroke=\"black\" d=\"M395.79,-103.73C402.25,-94.88 409.1,-85.51 415.59,-76.63\"/>\r\n<polygon fill=\"black\" stroke=\"black\" points=\"418.6,-78.44 421.67,-68.3 412.95,-74.31 418.6,-78.44\"/>\r\n</g>\r\n<!-- 12 -->\r\n<g id=\"node13\" class=\"node\">\r\n<title>12</title>\r\n<path fill=\"#c2e1f7\" stroke=\"black\" d=\"M744.5,-306C744.5,-306 643.5,-306 643.5,-306 637.5,-306 631.5,-300 631.5,-294 631.5,-294 631.5,-235 631.5,-235 631.5,-229 637.5,-223 643.5,-223 643.5,-223 744.5,-223 744.5,-223 750.5,-223 756.5,-229 756.5,-235 756.5,-235 756.5,-294 756.5,-294 756.5,-300 750.5,-306 744.5,-306\"/>\r\n<text text-anchor=\"middle\" x=\"694\" y=\"-290.8\" font-family=\"Helvetica,sans-Serif\" font-size=\"14.00\">简单句 &lt;= 0.449</text>\r\n<text text-anchor=\"middle\" x=\"694\" y=\"-275.8\" font-family=\"Helvetica,sans-Serif\" font-size=\"14.00\">entropy = 0.976</text>\r\n<text text-anchor=\"middle\" x=\"694\" y=\"-260.8\" font-family=\"Helvetica,sans-Serif\" font-size=\"14.00\">samples = 49</text>\r\n<text text-anchor=\"middle\" x=\"694\" y=\"-245.8\" font-family=\"Helvetica,sans-Serif\" font-size=\"14.00\">value = [20, 29]</text>\r\n<text text-anchor=\"middle\" x=\"694\" y=\"-230.8\" font-family=\"Helvetica,sans-Serif\" font-size=\"14.00\">class = native</text>\r\n</g>\r\n<!-- 11&#45;&gt;12 -->\r\n<g id=\"edge12\" class=\"edge\">\r\n<title>11&#45;&gt;12</title>\r\n<path fill=\"none\" stroke=\"black\" d=\"M694,-341.91C694,-333.65 694,-324.86 694,-316.3\"/>\r\n<polygon fill=\"black\" stroke=\"black\" points=\"697.5,-316.02 694,-306.02 690.5,-316.02 697.5,-316.02\"/>\r\n</g>\r\n<!-- 19 -->\r\n<g id=\"node20\" class=\"node\">\r\n<title>19</title>\r\n<path fill=\"#399de5\" stroke=\"black\" d=\"M865,-298.5C865,-298.5 787,-298.5 787,-298.5 781,-298.5 775,-292.5 775,-286.5 775,-286.5 775,-242.5 775,-242.5 775,-236.5 781,-230.5 787,-230.5 787,-230.5 865,-230.5 865,-230.5 871,-230.5 877,-236.5 877,-242.5 877,-242.5 877,-286.5 877,-286.5 877,-292.5 871,-298.5 865,-298.5\"/>\r\n<text text-anchor=\"middle\" x=\"826\" y=\"-283.3\" font-family=\"Helvetica,sans-Serif\" font-size=\"14.00\">entropy = 0.0</text>\r\n<text text-anchor=\"middle\" x=\"826\" y=\"-268.3\" font-family=\"Helvetica,sans-Serif\" font-size=\"14.00\">samples = 3</text>\r\n<text text-anchor=\"middle\" x=\"826\" y=\"-253.3\" font-family=\"Helvetica,sans-Serif\" font-size=\"14.00\">value = [0, 3]</text>\r\n<text text-anchor=\"middle\" x=\"826\" y=\"-238.3\" font-family=\"Helvetica,sans-Serif\" font-size=\"14.00\">class = native</text>\r\n</g>\r\n<!-- 11&#45;&gt;19 -->\r\n<g id=\"edge19\" class=\"edge\">\r\n<title>11&#45;&gt;19</title>\r\n<path fill=\"none\" stroke=\"black\" d=\"M739.8,-341.91C753.12,-330.1 767.65,-317.22 780.93,-305.45\"/>\r\n<polygon fill=\"black\" stroke=\"black\" points=\"783.42,-307.92 788.58,-298.67 778.78,-302.68 783.42,-307.92\"/>\r\n</g>\r\n<!-- 13 -->\r\n<g id=\"node14\" class=\"node\">\r\n<title>13</title>\r\n<path fill=\"#e9f4fc\" stroke=\"black\" d=\"M752,-187C752,-187 636,-187 636,-187 630,-187 624,-181 624,-175 624,-175 624,-116 624,-116 624,-110 630,-104 636,-104 636,-104 752,-104 752,-104 758,-104 764,-110 764,-116 764,-116 764,-175 764,-175 764,-181 758,-187 752,-187\"/>\r\n<text text-anchor=\"middle\" x=\"694\" y=\"-171.8\" font-family=\"Helvetica,sans-Serif\" font-size=\"14.00\">谓语数目 &lt;= 1.866</text>\r\n<text text-anchor=\"middle\" x=\"694\" y=\"-156.8\" font-family=\"Helvetica,sans-Serif\" font-size=\"14.00\">entropy = 0.998</text>\r\n<text text-anchor=\"middle\" x=\"694\" y=\"-141.8\" font-family=\"Helvetica,sans-Serif\" font-size=\"14.00\">samples = 34</text>\r\n<text text-anchor=\"middle\" x=\"694\" y=\"-126.8\" font-family=\"Helvetica,sans-Serif\" font-size=\"14.00\">value = [16, 18]</text>\r\n<text text-anchor=\"middle\" x=\"694\" y=\"-111.8\" font-family=\"Helvetica,sans-Serif\" font-size=\"14.00\">class = native</text>\r\n</g>\r\n<!-- 12&#45;&gt;13 -->\r\n<g id=\"edge13\" class=\"edge\">\r\n<title>12&#45;&gt;13</title>\r\n<path fill=\"none\" stroke=\"black\" d=\"M694,-222.91C694,-214.65 694,-205.86 694,-197.3\"/>\r\n<polygon fill=\"black\" stroke=\"black\" points=\"697.5,-197.02 694,-187.02 690.5,-197.02 697.5,-197.02\"/>\r\n</g>\r\n<!-- 16 -->\r\n<g id=\"node17\" class=\"node\">\r\n<title>16</title>\r\n<path fill=\"#81c1ee\" stroke=\"black\" d=\"M897.5,-187C897.5,-187 796.5,-187 796.5,-187 790.5,-187 784.5,-181 784.5,-175 784.5,-175 784.5,-116 784.5,-116 784.5,-110 790.5,-104 796.5,-104 796.5,-104 897.5,-104 897.5,-104 903.5,-104 909.5,-110 909.5,-116 909.5,-116 909.5,-175 909.5,-175 909.5,-181 903.5,-187 897.5,-187\"/>\r\n<text text-anchor=\"middle\" x=\"847\" y=\"-171.8\" font-family=\"Helvetica,sans-Serif\" font-size=\"14.00\">并列句 &lt;= 0.595</text>\r\n<text text-anchor=\"middle\" x=\"847\" y=\"-156.8\" font-family=\"Helvetica,sans-Serif\" font-size=\"14.00\">entropy = 0.837</text>\r\n<text text-anchor=\"middle\" x=\"847\" y=\"-141.8\" font-family=\"Helvetica,sans-Serif\" font-size=\"14.00\">samples = 15</text>\r\n<text text-anchor=\"middle\" x=\"847\" y=\"-126.8\" font-family=\"Helvetica,sans-Serif\" font-size=\"14.00\">value = [4, 11]</text>\r\n<text text-anchor=\"middle\" x=\"847\" y=\"-111.8\" font-family=\"Helvetica,sans-Serif\" font-size=\"14.00\">class = native</text>\r\n</g>\r\n<!-- 12&#45;&gt;16 -->\r\n<g id=\"edge16\" class=\"edge\">\r\n<title>12&#45;&gt;16</title>\r\n<path fill=\"none\" stroke=\"black\" d=\"M747.08,-222.91C759.54,-213.38 772.92,-203.15 785.71,-193.37\"/>\r\n<polygon fill=\"black\" stroke=\"black\" points=\"788.19,-195.88 794.01,-187.02 783.94,-190.32 788.19,-195.88\"/>\r\n</g>\r\n<!-- 14 -->\r\n<g id=\"node15\" class=\"node\">\r\n<title>14</title>\r\n<path fill=\"#f9e4d5\" stroke=\"black\" d=\"M624.5,-68C624.5,-68 533.5,-68 533.5,-68 527.5,-68 521.5,-62 521.5,-56 521.5,-56 521.5,-12 521.5,-12 521.5,-6 527.5,0 533.5,0 533.5,0 624.5,0 624.5,0 630.5,0 636.5,-6 636.5,-12 636.5,-12 636.5,-56 636.5,-56 636.5,-62 630.5,-68 624.5,-68\"/>\r\n<text text-anchor=\"middle\" x=\"579\" y=\"-52.8\" font-family=\"Helvetica,sans-Serif\" font-size=\"14.00\">entropy = 0.99</text>\r\n<text text-anchor=\"middle\" x=\"579\" y=\"-37.8\" font-family=\"Helvetica,sans-Serif\" font-size=\"14.00\">samples = 25</text>\r\n<text text-anchor=\"middle\" x=\"579\" y=\"-22.8\" font-family=\"Helvetica,sans-Serif\" font-size=\"14.00\">value = [14, 11]</text>\r\n<text text-anchor=\"middle\" x=\"579\" y=\"-7.8\" font-family=\"Helvetica,sans-Serif\" font-size=\"14.00\">class = chinese</text>\r\n</g>\r\n<!-- 13&#45;&gt;14 -->\r\n<g id=\"edge14\" class=\"edge\">\r\n<title>13&#45;&gt;14</title>\r\n<path fill=\"none\" stroke=\"black\" d=\"M651.18,-103.73C641.41,-94.42 631.03,-84.54 621.28,-75.26\"/>\r\n<polygon fill=\"black\" stroke=\"black\" points=\"623.63,-72.66 613.97,-68.3 618.8,-77.73 623.63,-72.66\"/>\r\n</g>\r\n<!-- 15 -->\r\n<g id=\"node16\" class=\"node\">\r\n<title>15</title>\r\n<path fill=\"#72b9ec\" stroke=\"black\" d=\"M759,-68C759,-68 667,-68 667,-68 661,-68 655,-62 655,-56 655,-56 655,-12 655,-12 655,-6 661,0 667,0 667,0 759,0 759,0 765,0 771,-6 771,-12 771,-12 771,-56 771,-56 771,-62 765,-68 759,-68\"/>\r\n<text text-anchor=\"middle\" x=\"713\" y=\"-52.8\" font-family=\"Helvetica,sans-Serif\" font-size=\"14.00\">entropy = 0.764</text>\r\n<text text-anchor=\"middle\" x=\"713\" y=\"-37.8\" font-family=\"Helvetica,sans-Serif\" font-size=\"14.00\">samples = 9</text>\r\n<text text-anchor=\"middle\" x=\"713\" y=\"-22.8\" font-family=\"Helvetica,sans-Serif\" font-size=\"14.00\">value = [2, 7]</text>\r\n<text text-anchor=\"middle\" x=\"713\" y=\"-7.8\" font-family=\"Helvetica,sans-Serif\" font-size=\"14.00\">class = native</text>\r\n</g>\r\n<!-- 13&#45;&gt;15 -->\r\n<g id=\"edge15\" class=\"edge\">\r\n<title>13&#45;&gt;15</title>\r\n<path fill=\"none\" stroke=\"black\" d=\"M701.07,-103.73C702.52,-95.43 704.03,-86.67 705.49,-78.28\"/>\r\n<polygon fill=\"black\" stroke=\"black\" points=\"708.96,-78.75 707.22,-68.3 702.06,-77.55 708.96,-78.75\"/>\r\n</g>\r\n<!-- 17 -->\r\n<g id=\"node18\" class=\"node\">\r\n<title>17</title>\r\n<path fill=\"#5dafea\" stroke=\"black\" d=\"M893,-68C893,-68 801,-68 801,-68 795,-68 789,-62 789,-56 789,-56 789,-12 789,-12 789,-6 795,0 801,0 801,0 893,0 893,0 899,0 905,-6 905,-12 905,-12 905,-56 905,-56 905,-62 899,-68 893,-68\"/>\r\n<text text-anchor=\"middle\" x=\"847\" y=\"-52.8\" font-family=\"Helvetica,sans-Serif\" font-size=\"14.00\">entropy = 0.619</text>\r\n<text text-anchor=\"middle\" x=\"847\" y=\"-37.8\" font-family=\"Helvetica,sans-Serif\" font-size=\"14.00\">samples = 13</text>\r\n<text text-anchor=\"middle\" x=\"847\" y=\"-22.8\" font-family=\"Helvetica,sans-Serif\" font-size=\"14.00\">value = [2, 11]</text>\r\n<text text-anchor=\"middle\" x=\"847\" y=\"-7.8\" font-family=\"Helvetica,sans-Serif\" font-size=\"14.00\">class = native</text>\r\n</g>\r\n<!-- 16&#45;&gt;17 -->\r\n<g id=\"edge17\" class=\"edge\">\r\n<title>16&#45;&gt;17</title>\r\n<path fill=\"none\" stroke=\"black\" d=\"M847,-103.73C847,-95.52 847,-86.86 847,-78.56\"/>\r\n<polygon fill=\"black\" stroke=\"black\" points=\"850.5,-78.3 847,-68.3 843.5,-78.3 850.5,-78.3\"/>\r\n</g>\r\n<!-- 18 -->\r\n<g id=\"node19\" class=\"node\">\r\n<title>18</title>\r\n<path fill=\"#e58139\" stroke=\"black\" d=\"M1026.5,-68C1026.5,-68 935.5,-68 935.5,-68 929.5,-68 923.5,-62 923.5,-56 923.5,-56 923.5,-12 923.5,-12 923.5,-6 929.5,0 935.5,0 935.5,0 1026.5,0 1026.5,0 1032.5,0 1038.5,-6 1038.5,-12 1038.5,-12 1038.5,-56 1038.5,-56 1038.5,-62 1032.5,-68 1026.5,-68\"/>\r\n<text text-anchor=\"middle\" x=\"981\" y=\"-52.8\" font-family=\"Helvetica,sans-Serif\" font-size=\"14.00\">entropy = 0.0</text>\r\n<text text-anchor=\"middle\" x=\"981\" y=\"-37.8\" font-family=\"Helvetica,sans-Serif\" font-size=\"14.00\">samples = 2</text>\r\n<text text-anchor=\"middle\" x=\"981\" y=\"-22.8\" font-family=\"Helvetica,sans-Serif\" font-size=\"14.00\">value = [2, 0]</text>\r\n<text text-anchor=\"middle\" x=\"981\" y=\"-7.8\" font-family=\"Helvetica,sans-Serif\" font-size=\"14.00\">class = chinese</text>\r\n</g>\r\n<!-- 16&#45;&gt;18 -->\r\n<g id=\"edge18\" class=\"edge\">\r\n<title>16&#45;&gt;18</title>\r\n<path fill=\"none\" stroke=\"black\" d=\"M896.9,-103.73C908.5,-94.24 920.85,-84.16 932.4,-74.72\"/>\r\n<polygon fill=\"black\" stroke=\"black\" points=\"934.72,-77.34 940.25,-68.3 930.29,-71.92 934.72,-77.34\"/>\r\n</g>\r\n</g>\r\n</svg>\r\n",
      "text/plain": [
       "<graphviz.files.Source at 0x22ccf42cac0>"
      ]
     },
     "execution_count": 24,
     "metadata": {},
     "output_type": "execute_result"
    }
   ],
   "source": [
    "feature_name = [\"谓语数目\",\"非谓语数目\",\"副词个数\",\"从句个数\",\"插入语个数\",\"复合句\",\"简单句\",\"并列句\",\"被动词个数\",\"连词个数\"]\n",
    "import graphviz\n",
    "dot_data = tree.export_graphviz(clf,\n",
    "                                out_file=None,\n",
    "                                feature_names=feature_name,\n",
    "                                class_names=[\"chinese\",\"native\"],\n",
    "                                filled=True,\n",
    "                                rounded=True)\n",
    "                                \n",
    "graph = graphviz.Source(dot_data)\n",
    "graph"
   ]
  },
  {
   "cell_type": "code",
   "execution_count": 25,
   "metadata": {},
   "outputs": [
    {
     "data": {
      "image/svg+xml": "<?xml version=\"1.0\" encoding=\"UTF-8\" standalone=\"no\"?>\r\n<!DOCTYPE svg PUBLIC \"-//W3C//DTD SVG 1.1//EN\"\r\n \"http://www.w3.org/Graphics/SVG/1.1/DTD/svg11.dtd\">\r\n<!-- Generated by graphviz version 3.0.0 (20220226.1711)\r\n -->\r\n<!-- Title: Tree Pages: 1 -->\r\n<svg width=\"1047pt\" height=\"671pt\"\r\n viewBox=\"0.00 0.00 1046.50 671.00\" xmlns=\"http://www.w3.org/2000/svg\" xmlns:xlink=\"http://www.w3.org/1999/xlink\">\r\n<g id=\"graph0\" class=\"graph\" transform=\"scale(1 1) rotate(0) translate(4 667)\">\r\n<title>Tree</title>\r\n<polygon fill=\"white\" stroke=\"transparent\" points=\"-4,4 -4,-667 1042.5,-667 1042.5,4 -4,4\"/>\r\n<!-- 0 -->\r\n<g id=\"node1\" class=\"node\">\r\n<title>0</title>\r\n<path fill=\"#fefdfb\" stroke=\"black\" d=\"M739.5,-663C739.5,-663 648.5,-663 648.5,-663 642.5,-663 636.5,-657 636.5,-651 636.5,-651 636.5,-592 636.5,-592 636.5,-586 642.5,-580 648.5,-580 648.5,-580 739.5,-580 739.5,-580 745.5,-580 751.5,-586 751.5,-592 751.5,-592 751.5,-651 751.5,-651 751.5,-657 745.5,-663 739.5,-663\"/>\r\n<text text-anchor=\"middle\" x=\"694\" y=\"-647.8\" font-family=\"Helvetica,sans-Serif\" font-size=\"14.00\">副词个数 &lt;=1</text>\r\n<text text-anchor=\"middle\" x=\"694\" y=\"-632.8\" font-family=\"Helvetica,sans-Serif\" font-size=\"14.00\">entropy = 1.0</text>\r\n<text text-anchor=\"middle\" x=\"694\" y=\"-617.8\" font-family=\"Helvetica,sans-Serif\" font-size=\"14.00\">samples = 103</text>\r\n<text text-anchor=\"middle\" x=\"694\" y=\"-602.8\" font-family=\"Helvetica,sans-Serif\" font-size=\"14.00\">value = [52, 51]</text>\r\n<text text-anchor=\"middle\" x=\"694\" y=\"-587.8\" font-family=\"Helvetica,sans-Serif\" font-size=\"14.00\">class = chinese</text>\r\n</g>\r\n<!-- 1 -->\r\n<g id=\"node2\" class=\"node\">\r\n<title>1</title>\r\n<path fill=\"#fcf3ec\" stroke=\"black\" d=\"M677,-544C677,-544 585,-544 585,-544 579,-544 573,-538 573,-532 573,-532 573,-473 573,-473 573,-467 579,-461 585,-461 585,-461 677,-461 677,-461 683,-461 689,-467 689,-473 689,-473 689,-532 689,-532 689,-538 683,-544 677,-544\"/>\r\n<text text-anchor=\"middle\" x=\"631\" y=\"-528.8\" font-family=\"Helvetica,sans-Serif\" font-size=\"14.00\">连词个数 &lt;=0</text>\r\n<text text-anchor=\"middle\" x=\"631\" y=\"-513.8\" font-family=\"Helvetica,sans-Serif\" font-size=\"14.00\">entropy = 0.998</text>\r\n<text text-anchor=\"middle\" x=\"631\" y=\"-498.8\" font-family=\"Helvetica,sans-Serif\" font-size=\"14.00\">samples = 99</text>\r\n<text text-anchor=\"middle\" x=\"631\" y=\"-483.8\" font-family=\"Helvetica,sans-Serif\" font-size=\"14.00\">value = [52, 47]</text>\r\n<text text-anchor=\"middle\" x=\"631\" y=\"-468.8\" font-family=\"Helvetica,sans-Serif\" font-size=\"14.00\">class = chinese</text>\r\n</g>\r\n<!-- 0&#45;&gt;1 -->\r\n<g id=\"edge1\" class=\"edge\">\r\n<title>0&#45;&gt;1</title>\r\n<path fill=\"none\" stroke=\"black\" d=\"M672.14,-579.91C667.45,-571.2 662.44,-561.9 657.6,-552.89\"/>\r\n<polygon fill=\"black\" stroke=\"black\" points=\"660.64,-551.17 652.82,-544.02 654.48,-554.48 660.64,-551.17\"/>\r\n<text text-anchor=\"middle\" x=\"645.64\" y=\"-564.27\" font-family=\"Helvetica,sans-Serif\" font-size=\"14.00\">True</text>\r\n</g>\r\n<!-- 20 -->\r\n<g id=\"node21\" class=\"node\">\r\n<title>20</title>\r\n<path fill=\"#399de5\" stroke=\"black\" d=\"M797,-536.5C797,-536.5 719,-536.5 719,-536.5 713,-536.5 707,-530.5 707,-524.5 707,-524.5 707,-480.5 707,-480.5 707,-474.5 713,-468.5 719,-468.5 719,-468.5 797,-468.5 797,-468.5 803,-468.5 809,-474.5 809,-480.5 809,-480.5 809,-524.5 809,-524.5 809,-530.5 803,-536.5 797,-536.5\"/>\r\n<text text-anchor=\"middle\" x=\"758\" y=\"-521.3\" font-family=\"Helvetica,sans-Serif\" font-size=\"14.00\">entropy = 0.0</text>\r\n<text text-anchor=\"middle\" x=\"758\" y=\"-506.3\" font-family=\"Helvetica,sans-Serif\" font-size=\"14.00\">samples = 4</text>\r\n<text text-anchor=\"middle\" x=\"758\" y=\"-491.3\" font-family=\"Helvetica,sans-Serif\" font-size=\"14.00\">value = [0, 4]</text>\r\n<text text-anchor=\"middle\" x=\"758\" y=\"-476.3\" font-family=\"Helvetica,sans-Serif\" font-size=\"14.00\">class = native</text>\r\n</g>\r\n<!-- 0&#45;&gt;20 -->\r\n<g id=\"edge20\" class=\"edge\">\r\n<title>0&#45;&gt;20</title>\r\n<path fill=\"none\" stroke=\"black\" d=\"M716.2,-579.91C722.24,-568.87 728.79,-556.9 734.88,-545.77\"/>\r\n<polygon fill=\"black\" stroke=\"black\" points=\"738.13,-547.12 739.86,-536.67 731.99,-543.76 738.13,-547.12\"/>\r\n<text text-anchor=\"middle\" x=\"746.88\" y=\"-556.96\" font-family=\"Helvetica,sans-Serif\" font-size=\"14.00\">False</text>\r\n</g>\r\n<!-- 2 -->\r\n<g id=\"node3\" class=\"node\">\r\n<title>2</title>\r\n<path fill=\"#f1bc96\" stroke=\"black\" d=\"M557,-425C557,-425 465,-425 465,-425 459,-425 453,-419 453,-413 453,-413 453,-354 453,-354 453,-348 459,-342 465,-342 465,-342 557,-342 557,-342 563,-342 569,-348 569,-354 569,-354 569,-413 569,-413 569,-419 563,-425 557,-425\"/>\r\n<text text-anchor=\"middle\" x=\"511\" y=\"-409.8\" font-family=\"Helvetica,sans-Serif\" font-size=\"14.00\">从句个数 &lt;=1</text>\r\n<text text-anchor=\"middle\" x=\"511\" y=\"-394.8\" font-family=\"Helvetica,sans-Serif\" font-size=\"14.00\">entropy = 0.903</text>\r\n<text text-anchor=\"middle\" x=\"511\" y=\"-379.8\" font-family=\"Helvetica,sans-Serif\" font-size=\"14.00\">samples = 47</text>\r\n<text text-anchor=\"middle\" x=\"511\" y=\"-364.8\" font-family=\"Helvetica,sans-Serif\" font-size=\"14.00\">value = [32, 15]</text>\r\n<text text-anchor=\"middle\" x=\"511\" y=\"-349.8\" font-family=\"Helvetica,sans-Serif\" font-size=\"14.00\">class = chinese</text>\r\n</g>\r\n<!-- 1&#45;&gt;2 -->\r\n<g id=\"edge2\" class=\"edge\">\r\n<title>1&#45;&gt;2</title>\r\n<path fill=\"none\" stroke=\"black\" d=\"M589.37,-460.91C579.87,-451.65 569.7,-441.73 559.93,-432.21\"/>\r\n<polygon fill=\"black\" stroke=\"black\" points=\"562.16,-429.5 552.56,-425.02 557.28,-434.51 562.16,-429.5\"/>\r\n</g>\r\n<!-- 11 -->\r\n<g id=\"node12\" class=\"node\">\r\n<title>11</title>\r\n<path fill=\"#b5daf5\" stroke=\"black\" d=\"M712,-425C712,-425 612,-425 612,-425 606,-425 600,-419 600,-413 600,-413 600,-354 600,-354 600,-348 606,-342 612,-342 612,-342 712,-342 712,-342 718,-342 724,-348 724,-354 724,-354 724,-413 724,-413 724,-419 718,-425 712,-425\"/>\r\n<text text-anchor=\"middle\" x=\"662\" y=\"-409.8\" font-family=\"Helvetica,sans-Serif\" font-size=\"14.00\">被动词个数 &lt;=1</text>\r\n<text text-anchor=\"middle\" x=\"662\" y=\"-394.8\" font-family=\"Helvetica,sans-Serif\" font-size=\"14.00\">entropy = 0.961</text>\r\n<text text-anchor=\"middle\" x=\"662\" y=\"-379.8\" font-family=\"Helvetica,sans-Serif\" font-size=\"14.00\">samples = 52</text>\r\n<text text-anchor=\"middle\" x=\"662\" y=\"-364.8\" font-family=\"Helvetica,sans-Serif\" font-size=\"14.00\">value = [20, 32]</text>\r\n<text text-anchor=\"middle\" x=\"662\" y=\"-349.8\" font-family=\"Helvetica,sans-Serif\" font-size=\"14.00\">class = native</text>\r\n</g>\r\n<!-- 1&#45;&gt;11 -->\r\n<g id=\"edge11\" class=\"edge\">\r\n<title>1&#45;&gt;11</title>\r\n<path fill=\"none\" stroke=\"black\" d=\"M641.76,-460.91C643.99,-452.47 646.37,-443.48 648.69,-434.74\"/>\r\n<polygon fill=\"black\" stroke=\"black\" points=\"652.09,-435.58 651.26,-425.02 645.32,-433.79 652.09,-435.58\"/>\r\n</g>\r\n<!-- 3 -->\r\n<g id=\"node4\" class=\"node\">\r\n<title>3</title>\r\n<path fill=\"#f2c29f\" stroke=\"black\" d=\"M397,-306C397,-306 297,-306 297,-306 291,-306 285,-300 285,-294 285,-294 285,-235 285,-235 285,-229 291,-223 297,-223 297,-223 397,-223 397,-223 403,-223 409,-229 409,-235 409,-235 409,-294 409,-294 409,-300 403,-306 397,-306\"/>\r\n<text text-anchor=\"middle\" x=\"347\" y=\"-290.8\" font-family=\"Helvetica,sans-Serif\" font-size=\"14.00\">插入语个数 &lt;=0</text>\r\n<text text-anchor=\"middle\" x=\"347\" y=\"-275.8\" font-family=\"Helvetica,sans-Serif\" font-size=\"14.00\">entropy = 0.926</text>\r\n<text text-anchor=\"middle\" x=\"347\" y=\"-260.8\" font-family=\"Helvetica,sans-Serif\" font-size=\"14.00\">samples = 44</text>\r\n<text text-anchor=\"middle\" x=\"347\" y=\"-245.8\" font-family=\"Helvetica,sans-Serif\" font-size=\"14.00\">value = [29, 15]</text>\r\n<text text-anchor=\"middle\" x=\"347\" y=\"-230.8\" font-family=\"Helvetica,sans-Serif\" font-size=\"14.00\">class = chinese</text>\r\n</g>\r\n<!-- 2&#45;&gt;3 -->\r\n<g id=\"edge3\" class=\"edge\">\r\n<title>2&#45;&gt;3</title>\r\n<path fill=\"none\" stroke=\"black\" d=\"M454.1,-341.91C440.62,-332.29 426.13,-321.95 412.31,-312.09\"/>\r\n<polygon fill=\"black\" stroke=\"black\" points=\"413.97,-308.98 403.8,-306.02 409.91,-314.68 413.97,-308.98\"/>\r\n</g>\r\n<!-- 10 -->\r\n<g id=\"node11\" class=\"node\">\r\n<title>10</title>\r\n<path fill=\"#e58139\" stroke=\"black\" d=\"M556.5,-298.5C556.5,-298.5 465.5,-298.5 465.5,-298.5 459.5,-298.5 453.5,-292.5 453.5,-286.5 453.5,-286.5 453.5,-242.5 453.5,-242.5 453.5,-236.5 459.5,-230.5 465.5,-230.5 465.5,-230.5 556.5,-230.5 556.5,-230.5 562.5,-230.5 568.5,-236.5 568.5,-242.5 568.5,-242.5 568.5,-286.5 568.5,-286.5 568.5,-292.5 562.5,-298.5 556.5,-298.5\"/>\r\n<text text-anchor=\"middle\" x=\"511\" y=\"-283.3\" font-family=\"Helvetica,sans-Serif\" font-size=\"14.00\">entropy = 0.0</text>\r\n<text text-anchor=\"middle\" x=\"511\" y=\"-268.3\" font-family=\"Helvetica,sans-Serif\" font-size=\"14.00\">samples = 3</text>\r\n<text text-anchor=\"middle\" x=\"511\" y=\"-253.3\" font-family=\"Helvetica,sans-Serif\" font-size=\"14.00\">value = [3, 0]</text>\r\n<text text-anchor=\"middle\" x=\"511\" y=\"-238.3\" font-family=\"Helvetica,sans-Serif\" font-size=\"14.00\">class = chinese</text>\r\n</g>\r\n<!-- 2&#45;&gt;10 -->\r\n<g id=\"edge10\" class=\"edge\">\r\n<title>2&#45;&gt;10</title>\r\n<path fill=\"none\" stroke=\"black\" d=\"M511,-341.91C511,-331.2 511,-319.62 511,-308.78\"/>\r\n<polygon fill=\"black\" stroke=\"black\" points=\"514.5,-308.67 511,-298.67 507.5,-308.67 514.5,-308.67\"/>\r\n</g>\r\n<!-- 4 -->\r\n<g id=\"node5\" class=\"node\">\r\n<title>4</title>\r\n<path fill=\"#f0b78e\" stroke=\"black\" d=\"M242,-187C242,-187 142,-187 142,-187 136,-187 130,-181 130,-175 130,-175 130,-116 130,-116 130,-110 136,-104 142,-104 142,-104 242,-104 242,-104 248,-104 254,-110 254,-116 254,-116 254,-175 254,-175 254,-181 248,-187 242,-187\"/>\r\n<text text-anchor=\"middle\" x=\"192\" y=\"-171.8\" font-family=\"Helvetica,sans-Serif\" font-size=\"14.00\">非谓语数目 &lt;=0</text>\r\n<text text-anchor=\"middle\" x=\"192\" y=\"-156.8\" font-family=\"Helvetica,sans-Serif\" font-size=\"14.00\">entropy = 0.881</text>\r\n<text text-anchor=\"middle\" x=\"192\" y=\"-141.8\" font-family=\"Helvetica,sans-Serif\" font-size=\"14.00\">samples = 40</text>\r\n<text text-anchor=\"middle\" x=\"192\" y=\"-126.8\" font-family=\"Helvetica,sans-Serif\" font-size=\"14.00\">value = [28, 12]</text>\r\n<text text-anchor=\"middle\" x=\"192\" y=\"-111.8\" font-family=\"Helvetica,sans-Serif\" font-size=\"14.00\">class = chinese</text>\r\n</g>\r\n<!-- 3&#45;&gt;4 -->\r\n<g id=\"edge4\" class=\"edge\">\r\n<title>3&#45;&gt;4</title>\r\n<path fill=\"none\" stroke=\"black\" d=\"M293.22,-222.91C280.48,-213.29 266.79,-202.95 253.72,-193.09\"/>\r\n<polygon fill=\"black\" stroke=\"black\" points=\"255.77,-190.25 245.68,-187.02 251.55,-195.84 255.77,-190.25\"/>\r\n</g>\r\n<!-- 7 -->\r\n<g id=\"node8\" class=\"node\">\r\n<title>7</title>\r\n<path fill=\"#7bbeee\" stroke=\"black\" d=\"M397,-187C397,-187 297,-187 297,-187 291,-187 285,-181 285,-175 285,-175 285,-116 285,-116 285,-110 291,-104 297,-104 297,-104 397,-104 397,-104 403,-104 409,-110 409,-116 409,-116 409,-175 409,-175 409,-181 403,-187 397,-187\"/>\r\n<text text-anchor=\"middle\" x=\"347\" y=\"-171.8\" font-family=\"Helvetica,sans-Serif\" font-size=\"14.00\">非谓语数目 &lt;=1</text>\r\n<text text-anchor=\"middle\" x=\"347\" y=\"-156.8\" font-family=\"Helvetica,sans-Serif\" font-size=\"14.00\">entropy = 0.811</text>\r\n<text text-anchor=\"middle\" x=\"347\" y=\"-141.8\" font-family=\"Helvetica,sans-Serif\" font-size=\"14.00\">samples = 4</text>\r\n<text text-anchor=\"middle\" x=\"347\" y=\"-126.8\" font-family=\"Helvetica,sans-Serif\" font-size=\"14.00\">value = [1, 3]</text>\r\n<text text-anchor=\"middle\" x=\"347\" y=\"-111.8\" font-family=\"Helvetica,sans-Serif\" font-size=\"14.00\">class = native</text>\r\n</g>\r\n<!-- 3&#45;&gt;7 -->\r\n<g id=\"edge7\" class=\"edge\">\r\n<title>3&#45;&gt;7</title>\r\n<path fill=\"none\" stroke=\"black\" d=\"M347,-222.91C347,-214.65 347,-205.86 347,-197.3\"/>\r\n<polygon fill=\"black\" stroke=\"black\" points=\"350.5,-197.02 347,-187.02 343.5,-197.02 350.5,-197.02\"/>\r\n</g>\r\n<!-- 5 -->\r\n<g id=\"node6\" class=\"node\">\r\n<title>5</title>\r\n<path fill=\"#eca06a\" stroke=\"black\" d=\"M104,-68C104,-68 12,-68 12,-68 6,-68 0,-62 0,-56 0,-56 0,-12 0,-12 0,-6 6,0 12,0 12,0 104,0 104,0 110,0 116,-6 116,-12 116,-12 116,-56 116,-56 116,-62 110,-68 104,-68\"/>\r\n<text text-anchor=\"middle\" x=\"58\" y=\"-52.8\" font-family=\"Helvetica,sans-Serif\" font-size=\"14.00\">entropy = 0.722</text>\r\n<text text-anchor=\"middle\" x=\"58\" y=\"-37.8\" font-family=\"Helvetica,sans-Serif\" font-size=\"14.00\">samples = 20</text>\r\n<text text-anchor=\"middle\" x=\"58\" y=\"-22.8\" font-family=\"Helvetica,sans-Serif\" font-size=\"14.00\">value = [16, 4]</text>\r\n<text text-anchor=\"middle\" x=\"58\" y=\"-7.8\" font-family=\"Helvetica,sans-Serif\" font-size=\"14.00\">class = chinese</text>\r\n</g>\r\n<!-- 4&#45;&gt;5 -->\r\n<g id=\"edge5\" class=\"edge\">\r\n<title>4&#45;&gt;5</title>\r\n<path fill=\"none\" stroke=\"black\" d=\"M142.1,-103.73C130.5,-94.24 118.15,-84.16 106.6,-74.72\"/>\r\n<polygon fill=\"black\" stroke=\"black\" points=\"108.71,-71.92 98.75,-68.3 104.28,-77.34 108.71,-71.92\"/>\r\n</g>\r\n<!-- 6 -->\r\n<g id=\"node7\" class=\"node\">\r\n<title>6</title>\r\n<path fill=\"#f6d5bd\" stroke=\"black\" d=\"M238,-68C238,-68 146,-68 146,-68 140,-68 134,-62 134,-56 134,-56 134,-12 134,-12 134,-6 140,0 146,0 146,0 238,0 238,0 244,0 250,-6 250,-12 250,-12 250,-56 250,-56 250,-62 244,-68 238,-68\"/>\r\n<text text-anchor=\"middle\" x=\"192\" y=\"-52.8\" font-family=\"Helvetica,sans-Serif\" font-size=\"14.00\">entropy = 0.971</text>\r\n<text text-anchor=\"middle\" x=\"192\" y=\"-37.8\" font-family=\"Helvetica,sans-Serif\" font-size=\"14.00\">samples = 20</text>\r\n<text text-anchor=\"middle\" x=\"192\" y=\"-22.8\" font-family=\"Helvetica,sans-Serif\" font-size=\"14.00\">value = [12, 8]</text>\r\n<text text-anchor=\"middle\" x=\"192\" y=\"-7.8\" font-family=\"Helvetica,sans-Serif\" font-size=\"14.00\">class = chinese</text>\r\n</g>\r\n<!-- 4&#45;&gt;6 -->\r\n<g id=\"edge6\" class=\"edge\">\r\n<title>4&#45;&gt;6</title>\r\n<path fill=\"none\" stroke=\"black\" d=\"M192,-103.73C192,-95.52 192,-86.86 192,-78.56\"/>\r\n<polygon fill=\"black\" stroke=\"black\" points=\"195.5,-78.3 192,-68.3 188.5,-78.3 195.5,-78.3\"/>\r\n</g>\r\n<!-- 8 -->\r\n<g id=\"node9\" class=\"node\">\r\n<title>8</title>\r\n<path fill=\"#399de5\" stroke=\"black\" d=\"M358,-68C358,-68 280,-68 280,-68 274,-68 268,-62 268,-56 268,-56 268,-12 268,-12 268,-6 274,0 280,0 280,0 358,0 358,0 364,0 370,-6 370,-12 370,-12 370,-56 370,-56 370,-62 364,-68 358,-68\"/>\r\n<text text-anchor=\"middle\" x=\"319\" y=\"-52.8\" font-family=\"Helvetica,sans-Serif\" font-size=\"14.00\">entropy = 0.0</text>\r\n<text text-anchor=\"middle\" x=\"319\" y=\"-37.8\" font-family=\"Helvetica,sans-Serif\" font-size=\"14.00\">samples = 3</text>\r\n<text text-anchor=\"middle\" x=\"319\" y=\"-22.8\" font-family=\"Helvetica,sans-Serif\" font-size=\"14.00\">value = [0, 3]</text>\r\n<text text-anchor=\"middle\" x=\"319\" y=\"-7.8\" font-family=\"Helvetica,sans-Serif\" font-size=\"14.00\">class = native</text>\r\n</g>\r\n<!-- 7&#45;&gt;8 -->\r\n<g id=\"edge8\" class=\"edge\">\r\n<title>7&#45;&gt;8</title>\r\n<path fill=\"none\" stroke=\"black\" d=\"M336.57,-103.73C334.43,-95.34 332.16,-86.47 330,-78.01\"/>\r\n<polygon fill=\"black\" stroke=\"black\" points=\"333.38,-77.12 327.51,-68.3 326.6,-78.85 333.38,-77.12\"/>\r\n</g>\r\n<!-- 9 -->\r\n<g id=\"node10\" class=\"node\">\r\n<title>9</title>\r\n<path fill=\"#e58139\" stroke=\"black\" d=\"M491.5,-68C491.5,-68 400.5,-68 400.5,-68 394.5,-68 388.5,-62 388.5,-56 388.5,-56 388.5,-12 388.5,-12 388.5,-6 394.5,0 400.5,0 400.5,0 491.5,0 491.5,0 497.5,0 503.5,-6 503.5,-12 503.5,-12 503.5,-56 503.5,-56 503.5,-62 497.5,-68 491.5,-68\"/>\r\n<text text-anchor=\"middle\" x=\"446\" y=\"-52.8\" font-family=\"Helvetica,sans-Serif\" font-size=\"14.00\">entropy = 0.0</text>\r\n<text text-anchor=\"middle\" x=\"446\" y=\"-37.8\" font-family=\"Helvetica,sans-Serif\" font-size=\"14.00\">samples = 1</text>\r\n<text text-anchor=\"middle\" x=\"446\" y=\"-22.8\" font-family=\"Helvetica,sans-Serif\" font-size=\"14.00\">value = [1, 0]</text>\r\n<text text-anchor=\"middle\" x=\"446\" y=\"-7.8\" font-family=\"Helvetica,sans-Serif\" font-size=\"14.00\">class = chinese</text>\r\n</g>\r\n<!-- 7&#45;&gt;9 -->\r\n<g id=\"edge9\" class=\"edge\">\r\n<title>7&#45;&gt;9</title>\r\n<path fill=\"none\" stroke=\"black\" d=\"M383.86,-103.73C392.11,-94.61 400.86,-84.93 409.11,-75.81\"/>\r\n<polygon fill=\"black\" stroke=\"black\" points=\"411.78,-78.06 415.89,-68.3 406.59,-73.37 411.78,-78.06\"/>\r\n</g>\r\n<!-- 12 -->\r\n<g id=\"node13\" class=\"node\">\r\n<title>12</title>\r\n<path fill=\"#c2e1f7\" stroke=\"black\" d=\"M708,-306C708,-306 616,-306 616,-306 610,-306 604,-300 604,-294 604,-294 604,-235 604,-235 604,-229 610,-223 616,-223 616,-223 708,-223 708,-223 714,-223 720,-229 720,-235 720,-235 720,-294 720,-294 720,-300 714,-306 708,-306\"/>\r\n<text text-anchor=\"middle\" x=\"662\" y=\"-290.8\" font-family=\"Helvetica,sans-Serif\" font-size=\"14.00\">是否为简单句</text>\r\n<text text-anchor=\"middle\" x=\"662\" y=\"-275.8\" font-family=\"Helvetica,sans-Serif\" font-size=\"14.00\">entropy = 0.976</text>\r\n<text text-anchor=\"middle\" x=\"662\" y=\"-260.8\" font-family=\"Helvetica,sans-Serif\" font-size=\"14.00\">samples = 49</text>\r\n<text text-anchor=\"middle\" x=\"662\" y=\"-245.8\" font-family=\"Helvetica,sans-Serif\" font-size=\"14.00\">value = [20, 29]</text>\r\n<text text-anchor=\"middle\" x=\"662\" y=\"-230.8\" font-family=\"Helvetica,sans-Serif\" font-size=\"14.00\">class = native</text>\r\n</g>\r\n<!-- 11&#45;&gt;12 -->\r\n<g id=\"edge12\" class=\"edge\">\r\n<title>11&#45;&gt;12</title>\r\n<path fill=\"none\" stroke=\"black\" d=\"M662,-341.91C662,-333.65 662,-324.86 662,-316.3\"/>\r\n<polygon fill=\"black\" stroke=\"black\" points=\"665.5,-316.02 662,-306.02 658.5,-316.02 665.5,-316.02\"/>\r\n</g>\r\n<!-- 19 -->\r\n<g id=\"node20\" class=\"node\">\r\n<title>19</title>\r\n<path fill=\"#399de5\" stroke=\"black\" d=\"M828,-298.5C828,-298.5 750,-298.5 750,-298.5 744,-298.5 738,-292.5 738,-286.5 738,-286.5 738,-242.5 738,-242.5 738,-236.5 744,-230.5 750,-230.5 750,-230.5 828,-230.5 828,-230.5 834,-230.5 840,-236.5 840,-242.5 840,-242.5 840,-286.5 840,-286.5 840,-292.5 834,-298.5 828,-298.5\"/>\r\n<text text-anchor=\"middle\" x=\"789\" y=\"-283.3\" font-family=\"Helvetica,sans-Serif\" font-size=\"14.00\">entropy = 0.0</text>\r\n<text text-anchor=\"middle\" x=\"789\" y=\"-268.3\" font-family=\"Helvetica,sans-Serif\" font-size=\"14.00\">samples = 3</text>\r\n<text text-anchor=\"middle\" x=\"789\" y=\"-253.3\" font-family=\"Helvetica,sans-Serif\" font-size=\"14.00\">value = [0, 3]</text>\r\n<text text-anchor=\"middle\" x=\"789\" y=\"-238.3\" font-family=\"Helvetica,sans-Serif\" font-size=\"14.00\">class = native</text>\r\n</g>\r\n<!-- 11&#45;&gt;19 -->\r\n<g id=\"edge19\" class=\"edge\">\r\n<title>11&#45;&gt;19</title>\r\n<path fill=\"none\" stroke=\"black\" d=\"M706.06,-341.91C718.88,-330.1 732.86,-317.22 745.64,-305.45\"/>\r\n<polygon fill=\"black\" stroke=\"black\" points=\"748.02,-308.02 753,-298.67 743.27,-302.87 748.02,-308.02\"/>\r\n</g>\r\n<!-- 13 -->\r\n<g id=\"node14\" class=\"node\">\r\n<title>13</title>\r\n<path fill=\"#e9f4fc\" stroke=\"black\" d=\"M708,-187C708,-187 616,-187 616,-187 610,-187 604,-181 604,-175 604,-175 604,-116 604,-116 604,-110 610,-104 616,-104 616,-104 708,-104 708,-104 714,-104 720,-110 720,-116 720,-116 720,-175 720,-175 720,-181 714,-187 708,-187\"/>\r\n<text text-anchor=\"middle\" x=\"662\" y=\"-171.8\" font-family=\"Helvetica,sans-Serif\" font-size=\"14.00\">谓语数目 &lt;=1</text>\r\n<text text-anchor=\"middle\" x=\"662\" y=\"-156.8\" font-family=\"Helvetica,sans-Serif\" font-size=\"14.00\">entropy = 0.998</text>\r\n<text text-anchor=\"middle\" x=\"662\" y=\"-141.8\" font-family=\"Helvetica,sans-Serif\" font-size=\"14.00\">samples = 34</text>\r\n<text text-anchor=\"middle\" x=\"662\" y=\"-126.8\" font-family=\"Helvetica,sans-Serif\" font-size=\"14.00\">value = [16, 18]</text>\r\n<text text-anchor=\"middle\" x=\"662\" y=\"-111.8\" font-family=\"Helvetica,sans-Serif\" font-size=\"14.00\">class = native</text>\r\n</g>\r\n<!-- 12&#45;&gt;13 -->\r\n<g id=\"edge13\" class=\"edge\">\r\n<title>12&#45;&gt;13</title>\r\n<path fill=\"none\" stroke=\"black\" d=\"M662,-222.91C662,-214.65 662,-205.86 662,-197.3\"/>\r\n<polygon fill=\"black\" stroke=\"black\" points=\"665.5,-197.02 662,-187.02 658.5,-197.02 665.5,-197.02\"/>\r\n</g>\r\n<!-- 16 -->\r\n<g id=\"node17\" class=\"node\">\r\n<title>16</title>\r\n<path fill=\"#81c1ee\" stroke=\"black\" d=\"M893,-187C893,-187 801,-187 801,-187 795,-187 789,-181 789,-175 789,-175 789,-116 789,-116 789,-110 795,-104 801,-104 801,-104 893,-104 893,-104 899,-104 905,-110 905,-116 905,-116 905,-175 905,-175 905,-181 899,-187 893,-187\"/>\r\n<text text-anchor=\"middle\" x=\"847\" y=\"-171.8\" font-family=\"Helvetica,sans-Serif\" font-size=\"14.00\">是否为并列句</text>\r\n<text text-anchor=\"middle\" x=\"847\" y=\"-156.8\" font-family=\"Helvetica,sans-Serif\" font-size=\"14.00\">entropy = 0.837</text>\r\n<text text-anchor=\"middle\" x=\"847\" y=\"-141.8\" font-family=\"Helvetica,sans-Serif\" font-size=\"14.00\">samples = 15</text>\r\n<text text-anchor=\"middle\" x=\"847\" y=\"-126.8\" font-family=\"Helvetica,sans-Serif\" font-size=\"14.00\">value = [4, 11]</text>\r\n<text text-anchor=\"middle\" x=\"847\" y=\"-111.8\" font-family=\"Helvetica,sans-Serif\" font-size=\"14.00\">class = native</text>\r\n</g>\r\n<!-- 12&#45;&gt;16 -->\r\n<g id=\"edge16\" class=\"edge\">\r\n<title>12&#45;&gt;16</title>\r\n<path fill=\"none\" stroke=\"black\" d=\"M720.03,-226.8C739.13,-214.72 760.53,-201.18 780.24,-188.72\"/>\r\n<polygon fill=\"black\" stroke=\"black\" points=\"782.28,-191.57 788.86,-183.27 778.54,-185.66 782.28,-191.57\"/>\r\n</g>\r\n<!-- 14 -->\r\n<g id=\"node15\" class=\"node\">\r\n<title>14</title>\r\n<path fill=\"#f9e4d5\" stroke=\"black\" d=\"M624.5,-68C624.5,-68 533.5,-68 533.5,-68 527.5,-68 521.5,-62 521.5,-56 521.5,-56 521.5,-12 521.5,-12 521.5,-6 527.5,0 533.5,0 533.5,0 624.5,0 624.5,0 630.5,0 636.5,-6 636.5,-12 636.5,-12 636.5,-56 636.5,-56 636.5,-62 630.5,-68 624.5,-68\"/>\r\n<text text-anchor=\"middle\" x=\"579\" y=\"-52.8\" font-family=\"Helvetica,sans-Serif\" font-size=\"14.00\">entropy = 0.99</text>\r\n<text text-anchor=\"middle\" x=\"579\" y=\"-37.8\" font-family=\"Helvetica,sans-Serif\" font-size=\"14.00\">samples = 25</text>\r\n<text text-anchor=\"middle\" x=\"579\" y=\"-22.8\" font-family=\"Helvetica,sans-Serif\" font-size=\"14.00\">value = [14, 11]</text>\r\n<text text-anchor=\"middle\" x=\"579\" y=\"-7.8\" font-family=\"Helvetica,sans-Serif\" font-size=\"14.00\">class = chinese</text>\r\n</g>\r\n<!-- 13&#45;&gt;14 -->\r\n<g id=\"edge14\" class=\"edge\">\r\n<title>13&#45;&gt;14</title>\r\n<path fill=\"none\" stroke=\"black\" d=\"M631.09,-103.73C624.32,-94.79 617.14,-85.32 610.35,-76.36\"/>\r\n<polygon fill=\"black\" stroke=\"black\" points=\"613.07,-74.15 604.24,-68.3 607.49,-78.38 613.07,-74.15\"/>\r\n</g>\r\n<!-- 15 -->\r\n<g id=\"node16\" class=\"node\">\r\n<title>15</title>\r\n<path fill=\"#72b9ec\" stroke=\"black\" d=\"M759,-68C759,-68 667,-68 667,-68 661,-68 655,-62 655,-56 655,-56 655,-12 655,-12 655,-6 661,0 667,0 667,0 759,0 759,0 765,0 771,-6 771,-12 771,-12 771,-56 771,-56 771,-62 765,-68 759,-68\"/>\r\n<text text-anchor=\"middle\" x=\"713\" y=\"-52.8\" font-family=\"Helvetica,sans-Serif\" font-size=\"14.00\">entropy = 0.764</text>\r\n<text text-anchor=\"middle\" x=\"713\" y=\"-37.8\" font-family=\"Helvetica,sans-Serif\" font-size=\"14.00\">samples = 9</text>\r\n<text text-anchor=\"middle\" x=\"713\" y=\"-22.8\" font-family=\"Helvetica,sans-Serif\" font-size=\"14.00\">value = [2, 7]</text>\r\n<text text-anchor=\"middle\" x=\"713\" y=\"-7.8\" font-family=\"Helvetica,sans-Serif\" font-size=\"14.00\">class = native</text>\r\n</g>\r\n<!-- 13&#45;&gt;15 -->\r\n<g id=\"edge15\" class=\"edge\">\r\n<title>13&#45;&gt;15</title>\r\n<path fill=\"none\" stroke=\"black\" d=\"M680.99,-103.73C684.98,-95.15 689.21,-86.09 693.23,-77.46\"/>\r\n<polygon fill=\"black\" stroke=\"black\" points=\"696.44,-78.84 697.49,-68.3 690.1,-75.89 696.44,-78.84\"/>\r\n</g>\r\n<!-- 17 -->\r\n<g id=\"node18\" class=\"node\">\r\n<title>17</title>\r\n<path fill=\"#5dafea\" stroke=\"black\" d=\"M893,-68C893,-68 801,-68 801,-68 795,-68 789,-62 789,-56 789,-56 789,-12 789,-12 789,-6 795,0 801,0 801,0 893,0 893,0 899,0 905,-6 905,-12 905,-12 905,-56 905,-56 905,-62 899,-68 893,-68\"/>\r\n<text text-anchor=\"middle\" x=\"847\" y=\"-52.8\" font-family=\"Helvetica,sans-Serif\" font-size=\"14.00\">entropy = 0.619</text>\r\n<text text-anchor=\"middle\" x=\"847\" y=\"-37.8\" font-family=\"Helvetica,sans-Serif\" font-size=\"14.00\">samples = 13</text>\r\n<text text-anchor=\"middle\" x=\"847\" y=\"-22.8\" font-family=\"Helvetica,sans-Serif\" font-size=\"14.00\">value = [2, 11]</text>\r\n<text text-anchor=\"middle\" x=\"847\" y=\"-7.8\" font-family=\"Helvetica,sans-Serif\" font-size=\"14.00\">class = native</text>\r\n</g>\r\n<!-- 16&#45;&gt;17 -->\r\n<g id=\"edge17\" class=\"edge\">\r\n<title>16&#45;&gt;17</title>\r\n<path fill=\"none\" stroke=\"black\" d=\"M847,-103.73C847,-95.52 847,-86.86 847,-78.56\"/>\r\n<polygon fill=\"black\" stroke=\"black\" points=\"850.5,-78.3 847,-68.3 843.5,-78.3 850.5,-78.3\"/>\r\n</g>\r\n<!-- 18 -->\r\n<g id=\"node19\" class=\"node\">\r\n<title>18</title>\r\n<path fill=\"#e58139\" stroke=\"black\" d=\"M1026.5,-68C1026.5,-68 935.5,-68 935.5,-68 929.5,-68 923.5,-62 923.5,-56 923.5,-56 923.5,-12 923.5,-12 923.5,-6 929.5,0 935.5,0 935.5,0 1026.5,0 1026.5,0 1032.5,0 1038.5,-6 1038.5,-12 1038.5,-12 1038.5,-56 1038.5,-56 1038.5,-62 1032.5,-68 1026.5,-68\"/>\r\n<text text-anchor=\"middle\" x=\"981\" y=\"-52.8\" font-family=\"Helvetica,sans-Serif\" font-size=\"14.00\">entropy = 0.0</text>\r\n<text text-anchor=\"middle\" x=\"981\" y=\"-37.8\" font-family=\"Helvetica,sans-Serif\" font-size=\"14.00\">samples = 2</text>\r\n<text text-anchor=\"middle\" x=\"981\" y=\"-22.8\" font-family=\"Helvetica,sans-Serif\" font-size=\"14.00\">value = [2, 0]</text>\r\n<text text-anchor=\"middle\" x=\"981\" y=\"-7.8\" font-family=\"Helvetica,sans-Serif\" font-size=\"14.00\">class = chinese</text>\r\n</g>\r\n<!-- 16&#45;&gt;18 -->\r\n<g id=\"edge18\" class=\"edge\">\r\n<title>16&#45;&gt;18</title>\r\n<path fill=\"none\" stroke=\"black\" d=\"M896.9,-103.73C908.5,-94.24 920.85,-84.16 932.4,-74.72\"/>\r\n<polygon fill=\"black\" stroke=\"black\" points=\"934.72,-77.34 940.25,-68.3 930.29,-71.92 934.72,-77.34\"/>\r\n</g>\r\n</g>\r\n</svg>\r\n",
      "text/plain": [
       "<graphviz.files.Source at 0x22cbc296d00>"
      ]
     },
     "execution_count": 25,
     "metadata": {},
     "output_type": "execute_result"
    }
   ],
   "source": [
    "f = open('dot_data.txt', 'w')\n",
    "f.write(dot_data)\n",
    "f.close()  \n",
    "f_new = open('dot_data.txt', 'r', encoding='utf-8')\n",
    "new_dot = ''\n",
    "for line in f_new:   \n",
    "    string = line\n",
    "    num = re.findall(r\"<= \\d+\\.?\\d*\",string)\n",
    "    for n in num:\n",
    "        n = n.replace('<=','')\n",
    "        line = line.replace(n,str(int(float(n))))\n",
    "        #line = line.replace('<=0','== 0')\n",
    "        line = line.replace('复合句 <=0','是否为复合句')\n",
    "        line = line.replace('简单句 <=0','是否为简单句')\n",
    "        line = line.replace('并列句 <=0','是否为并列句')\n",
    "    new_dot += line\n",
    "\n",
    "#print(new_dot)\n",
    "\n",
    "graph = graphviz.Source(new_dot)\n",
    "graph"
   ]
  }
 ],
 "metadata": {
  "interpreter": {
   "hash": "96eb50e1d44aed467dc8f759cb08c32fbfa9babcf79c554e2d0e5feb04653a10"
  },
  "kernelspec": {
   "display_name": "Python 3.8.6 ('base')",
   "language": "python",
   "name": "python3"
  },
  "language_info": {
   "codemirror_mode": {
    "name": "ipython",
    "version": 3
   },
   "file_extension": ".py",
   "mimetype": "text/x-python",
   "name": "python",
   "nbconvert_exporter": "python",
   "pygments_lexer": "ipython3",
   "version": "3.8.6"
  },
  "orig_nbformat": 4
 },
 "nbformat": 4,
 "nbformat_minor": 2
}
